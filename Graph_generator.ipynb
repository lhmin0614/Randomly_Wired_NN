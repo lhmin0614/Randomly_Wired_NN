{
  "nbformat": 4,
  "nbformat_minor": 0,
  "metadata": {
    "colab": {
      "name": "Graph generator",
      "provenance": [],
      "collapsed_sections": [],
      "include_colab_link": true
    },
    "kernelspec": {
      "name": "python3",
      "display_name": "Python 3"
    },
    "language_info": {
      "name": "python"
    }
  },
  "cells": [
    {
      "cell_type": "markdown",
      "metadata": {
        "id": "view-in-github",
        "colab_type": "text"
      },
      "source": [
        "<a href=\"https://colab.research.google.com/github/lhmin0614/Randomly_Wired_NN/blob/main/Graph_generator.ipynb\" target=\"_parent\"><img src=\"https://colab.research.google.com/assets/colab-badge.svg\" alt=\"Open In Colab\"/></a>"
      ]
    },
    {
      "cell_type": "markdown",
      "metadata": {
        "id": "WvKuQcU3RmWZ"
      },
      "source": [
        "Import and install libraries"
      ]
    },
    {
      "cell_type": "code",
      "metadata": {
        "id": "mgU-yaTyuWtk"
      },
      "source": [
        "import math\n",
        "import numpy as np"
      ],
      "execution_count": null,
      "outputs": []
    },
    {
      "cell_type": "markdown",
      "metadata": {
        "id": "VjpcywvKuGMW"
      },
      "source": [
        "#  ER graph\n",
        "parameter: n (node 개수), p (연결될 확률)\n",
        "\n",
        "모든 node의 조합은 p의 확률로 연결됨.\n",
        "\n"
      ]
    },
    {
      "cell_type": "code",
      "metadata": {
        "id": "NFhmtxDcuRaQ"
      },
      "source": [
        "def er_graph(n, p):\n",
        "\n",
        "  if p < math.log(n) / n:\n",
        "      print(\"p is too small for given n.\")\n",
        "      # p> ln(n)/n이어야 single connected component graph가 될 확률이 높다.\n",
        "\n",
        "  edges = list()\n",
        "  # n by n random array\n",
        "  # rand[i][j] == the probability of the edge(i,j) connected.\n",
        "  rand = np.random.uniform(0.0, 1.0, size=(n, n))\n",
        "\n",
        "  for i in range(n):\n",
        "      for j in range(i+1, n):\n",
        "          if rand[i][j] < p:\n",
        "              edges.append((i, j)) \n",
        "\n",
        "  return edges"
      ],
      "execution_count": null,
      "outputs": []
    },
    {
      "cell_type": "markdown",
      "metadata": {
        "id": "NyiobEh8uLaF"
      },
      "source": [
        "## BA graph\n",
        "parameter : m (initial node 개수), n (최종 node 개수)\n",
        "\n",
        "기존 node에 새로운 node를 연결할 때 연결확률은 기존 node의 degree에 비례한다."
      ]
    },
    {
      "cell_type": "code",
      "metadata": {
        "id": "PYPB-rrepyOI"
      },
      "source": [
        "def ba_graph(n, m):\n",
        "\n",
        "  assert 1 <= m < n, \"m must be smaller than n.\"\n",
        "\n",
        "  edges = list()\n",
        "  deg = np.zeros(n)\n",
        "\n",
        "  for i in range(m, n):\n",
        "      if i == m:\n",
        "          for j in range(i):\n",
        "              edges.append((j, i))\n",
        "              deg[j] += 1\n",
        "              deg[i] += 1\n",
        "          continue\n",
        "\n",
        "      connection = np.random.choice(range(n), size=m, replace=False, p=deg/np.sum(deg))\n",
        "      for cnt in connection:\n",
        "          edges.append((cnt, i))\n",
        "          deg[cnt] += 1\n",
        "          deg[i] += 1\n",
        "\n",
        "  edges.sort()\n",
        "  \n",
        "  return edges\n"
      ],
      "execution_count": null,
      "outputs": []
    },
    {
      "cell_type": "markdown",
      "metadata": {
        "id": "rnEqKl3XI-FI"
      },
      "source": [
        "## WS graph\n",
        "parameter : n (# of node), k(# of initial connected neighbors per node), p(rewiring probability)\n",
        "\n",
        "Every edge is rewired with probability p, starts from regular graph."
      ]
    },
    {
      "cell_type": "code",
      "metadata": {
        "id": "nZMS8biSI-57"
      },
      "source": [
        "def ws_graph(n, k, p):\n",
        "  \n",
        "  if k % 2 != 0:                            # k should be even\n",
        "    k = k - 1\n",
        "\n",
        "  init_edges = [[] for i in range(n)]\n",
        "  rand = np.random.uniform(0.0, 1.0, (n, k//2))\n",
        "  edges = list()\n",
        "\n",
        "  for i in range(n):                        # each node is connected to k neighbor nodes.\n",
        "    for j in range(k//2):\n",
        "      jj = (i + j + 1) % n\n",
        "      init_edges[i].append(jj)\n",
        "      init_edges[jj].append(i)\n",
        "\n",
        "  for i in range(n):\n",
        "    for j in range(k//2):\n",
        "      jj = (i + j + 1) % n\n",
        "      jjj = jj\n",
        "      if rand[i][j] < p:\n",
        "        rand_list = list(set(range(n)) - set(init_edges[i]))\n",
        "        jjj = np.random.choice(rand_list, 1)[0]\n",
        "        init_edges[i].append(jjj)\n",
        "        init_edges[jjj].append(i)\n",
        "        init_edges[i].remove(jj)\n",
        "        init_edges[jj].remove(i)\n",
        "      edges.append(tuple(sorted([i, jjj])))\n",
        "  \n",
        "  return sorted(edges)"
      ],
      "execution_count": null,
      "outputs": []
    },
    {
      "cell_type": "code",
      "metadata": {
        "colab": {
          "base_uri": "https://localhost:8080/"
        },
        "id": "w5UA4YEmn7Ht",
        "outputId": "517ff7b5-f360-4e16-acab-49086e5cec35"
      },
      "source": [
        "print(er_graph(20, 0.2))\n",
        "print(ba_graph(20, 4))\n",
        "print(ws_graph(20, 4, 0.4))"
      ],
      "execution_count": null,
      "outputs": [
        {
          "output_type": "stream",
          "text": [
            "[(0, 5), (0, 6), (0, 11), (0, 13), (0, 14), (0, 19), (1, 5), (1, 6), (1, 8), (1, 9), (1, 17), (2, 9), (2, 12), (2, 14), (2, 16), (2, 17), (3, 5), (3, 6), (3, 7), (3, 9), (3, 14), (3, 18), (4, 6), (4, 9), (4, 12), (4, 13), (4, 17), (4, 19), (5, 6), (5, 11), (5, 19), (6, 7), (6, 11), (6, 13), (6, 14), (6, 17), (7, 11), (7, 17), (8, 11), (8, 15), (8, 16), (9, 11), (9, 16), (11, 16), (13, 18)]\n",
            "[(0, 4), (0, 5), (0, 6), (0, 7), (0, 8), (0, 9), (0, 10), (0, 13), (0, 14), (0, 15), (0, 16), (1, 4), (1, 7), (1, 8), (1, 10), (1, 11), (1, 14), (1, 16), (1, 17), (1, 18), (2, 4), (2, 5), (3, 4), (3, 5), (3, 6), (3, 7), (3, 10), (3, 12), (4, 5), (4, 6), (4, 8), (4, 9), (4, 10), (4, 11), (4, 13), (4, 17), (5, 6), (5, 7), (5, 8), (5, 9), (5, 11), (5, 14), (5, 17), (6, 19), (7, 9), (7, 11), (7, 12), (7, 15), (7, 17), (8, 12), (8, 13), (8, 14), (8, 15), (8, 16), (8, 18), (8, 19), (9, 19), (10, 12), (10, 15), (11, 13), (13, 19), (15, 16), (15, 18), (16, 18)]\n",
            "[(0, 1), (0, 2), (0, 12), (0, 13), (0, 18), (1, 3), (1, 13), (1, 15), (1, 19), (2, 3), (2, 10), (2, 11), (2, 18), (3, 4), (3, 5), (4, 5), (4, 6), (4, 11), (4, 12), (4, 14), (5, 6), (5, 7), (6, 6), (6, 12), (7, 8), (7, 14), (7, 18), (8, 14), (8, 19), (9, 9), (9, 11), (9, 14), (10, 11), (10, 19), (11, 17), (13, 15), (15, 17), (16, 17), (16, 18), (17, 19)]\n"
          ],
          "name": "stdout"
        }
      ]
    },
    {
      "cell_type": "markdown",
      "metadata": {
        "id": "5gK9qK2F9nM4"
      },
      "source": [
        "## Input and Output Nodes\n",
        "\n",
        "Input nodes: Nodes that only send data\n",
        "\n",
        "Output nodes: Nodes that only recieve data"
      ]
    },
    {
      "cell_type": "code",
      "metadata": {
        "id": "KVbT38Hj9miy",
        "colab": {
          "base_uri": "https://localhost:8080/"
        },
        "outputId": "2da77cfb-7a69-42d8-efb7-ea14ea070711"
      },
      "source": [
        "def in_out_nodes(n, edges):\n",
        "  vertices = set(range(n))\n",
        "  starts, ends = set(), set()\n",
        "  for edge in edges:\n",
        "    starts.add(edge[0])\n",
        "    ends.add(edge[1])\n",
        "  \n",
        "  inputs = sorted(list(vertices - ends))\n",
        "  outputs = sorted(list(vertices - starts))\n",
        "  return inputs, outputs\n",
        "\n",
        "er1 = er_graph(20, 0.2)\n",
        "ba1 = ba_graph(20, 4)\n",
        "ws1 = ws_graph(20, 4, 0.4)\n",
        "\n",
        "print(er1)\n",
        "print(ba1)\n",
        "print(ws1)\n",
        "\n",
        "print(in_out_nodes(20, er1))\n",
        "print(in_out_nodes(20, ba1))\n",
        "print(in_out_nodes(20, ws1))"
      ],
      "execution_count": null,
      "outputs": [
        {
          "output_type": "stream",
          "text": [
            "[(0, 11), (1, 2), (1, 6), (1, 12), (1, 14), (1, 19), (2, 5), (2, 9), (2, 14), (3, 5), (3, 10), (3, 13), (3, 16), (3, 17), (4, 5), (4, 6), (4, 10), (5, 7), (5, 8), (5, 10), (5, 11), (5, 14), (5, 19), (6, 9), (6, 17), (7, 8), (7, 10), (7, 17), (7, 19), (8, 9), (8, 13), (9, 13), (9, 14), (10, 11), (10, 13), (10, 14), (10, 15), (11, 12), (11, 16), (12, 13), (13, 15), (15, 18), (16, 19), (17, 18), (18, 19)]\n",
            "[(0, 4), (1, 4), (1, 5), (1, 6), (1, 7), (1, 9), (2, 4), (2, 5), (2, 6), (2, 10), (3, 4), (3, 5), (3, 8), (3, 9), (3, 10), (3, 12), (3, 13), (3, 15), (3, 19), (4, 5), (4, 6), (4, 7), (4, 8), (4, 11), (4, 12), (4, 13), (4, 14), (4, 15), (4, 16), (4, 19), (5, 6), (5, 7), (5, 8), (5, 10), (5, 11), (5, 13), (5, 17), (5, 18), (6, 7), (6, 8), (6, 9), (6, 14), (6, 15), (6, 16), (6, 18), (7, 9), (7, 11), (7, 14), (7, 16), (7, 17), (8, 19), (9, 10), (9, 15), (10, 11), (10, 12), (11, 12), (11, 13), (11, 14), (11, 18), (12, 17), (15, 16), (15, 18), (16, 17), (18, 19)]\n",
            "[(0, 1), (0, 2), (0, 9), (0, 14), (0, 18), (1, 2), (1, 3), (1, 11), (1, 19), (2, 3), (2, 8), (2, 10), (2, 13), (3, 4), (3, 7), (3, 9), (4, 5), (4, 6), (4, 8), (5, 6), (5, 7), (6, 8), (6, 11), (6, 19), (7, 8), (9, 11), (9, 14), (10, 16), (12, 14), (12, 15), (12, 16), (12, 17), (13, 14), (13, 15), (14, 16), (15, 16), (16, 17), (17, 18), (17, 19), (18, 19)]\n",
            "([0, 1, 3, 4], [14, 19])\n",
            "([0, 1, 2, 3], [13, 14, 17, 19])\n",
            "([0, 12], [8, 11, 19])\n"
          ],
          "name": "stdout"
        }
      ]
    }
  ]
}